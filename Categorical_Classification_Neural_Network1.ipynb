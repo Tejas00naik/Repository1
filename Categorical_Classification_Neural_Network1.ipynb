{
  "nbformat": 4,
  "nbformat_minor": 0,
  "metadata": {
    "colab": {
      "name": "Neural_Network1.ipynb.txt",
      "provenance": [],
      "collapsed_sections": []
    },
    "kernelspec": {
      "name": "python3",
      "display_name": "Python 3"
    },
    "language_info": {
      "name": "python"
    }
  },
  "cells": [
    {
      "cell_type": "code",
      "source": [
        "!pip install python-mnist"
      ],
      "metadata": {
        "colab": {
          "base_uri": "https://localhost:8080/"
        },
        "id": "vgU94o-OLz5M",
        "outputId": "4b2a878a-659a-446b-8a95-4f4357e98229"
      },
      "execution_count": 162,
      "outputs": [
        {
          "output_type": "stream",
          "name": "stdout",
          "text": [
            "Requirement already satisfied: python-mnist in /usr/local/lib/python3.7/dist-packages (0.7)\n"
          ]
        }
      ]
    },
    {
      "cell_type": "code",
      "source": [
        "from google.colab import drive\n",
        "\n",
        "drive.mount('/content/gdrive')"
      ],
      "metadata": {
        "colab": {
          "base_uri": "https://localhost:8080/"
        },
        "id": "2CzOSFUhmKFo",
        "outputId": "7c27c65f-a83c-48d2-e717-7e1f54498f2e"
      },
      "execution_count": 2,
      "outputs": [
        {
          "output_type": "stream",
          "name": "stdout",
          "text": [
            "Mounted at /content/gdrive\n"
          ]
        }
      ]
    },
    {
      "cell_type": "code",
      "execution_count": 163,
      "metadata": {
        "id": "Px9QUx-n3sWC"
      },
      "outputs": [],
      "source": [
        "import numpy as np\n",
        "import matplotlib.pyplot as plt\n",
        "from mnist import MNIST"
      ]
    },
    {
      "cell_type": "code",
      "source": [
        "mnData = MNIST('/content/gdrive/MyDrive/Quantiphi Training/Neural_network_1/Dataset')\n",
        "X_train,Y_train= mnData.load_training()\n",
        "X_test,Y_test= mnData.load_testing()\n",
        "\n",
        "Yt=[]\n",
        "for i in range(0,10000):\n",
        " Yt.append(Y_test[i]);\n",
        "Y_test=Yt\n",
        "\n",
        "Y_test=np.reshape(Y_test,(10000,1));\n",
        "Y_train=np.reshape(Y_train,(60000,1));\n",
        "\n",
        "\n",
        "X_train=np.transpose(X_train)\n",
        "X_test=np.transpose(X_test)"
      ],
      "metadata": {
        "id": "PyGExloFL-hE"
      },
      "execution_count": 222,
      "outputs": []
    },
    {
      "cell_type": "code",
      "source": [
        "print(np.shape(X_train))\n",
        "print(np.shape(Y_train))\n",
        "print(np.shape(Y_test))\n",
        "print(np.shape(X_test))"
      ],
      "metadata": {
        "colab": {
          "base_uri": "https://localhost:8080/"
        },
        "id": "A8v1HMDRyXvX",
        "outputId": "25565cf4-bd84-4f36-e94e-74f316edf79d"
      },
      "execution_count": 223,
      "outputs": [
        {
          "output_type": "stream",
          "name": "stdout",
          "text": [
            "(784, 60000)\n",
            "(60000, 1)\n",
            "(10000, 1)\n",
            "(784, 10000)\n"
          ]
        }
      ]
    },
    {
      "cell_type": "code",
      "source": [
        "\n",
        "Y=np.zeros(shape=(10,60000))\n",
        "for i in range(0,60000):\n",
        "  Y[Y_train[i,0],i]=1;\n",
        "print(Y[:,200])\n",
        "\n",
        "Yti=np.zeros(shape=(10,10000));\n",
        "for i in range(0,10000):\n",
        "  Yti[Y_test[i,0],i]=1;\n",
        "print(Yti[:,200])\n",
        "\n",
        "print(Y.shape)\n",
        "print(Yti.shape)"
      ],
      "metadata": {
        "id": "Z3isZcoKjdjh",
        "colab": {
          "base_uri": "https://localhost:8080/"
        },
        "outputId": "23078f77-39c6-4be8-d17f-e5884e09d179"
      },
      "execution_count": 224,
      "outputs": [
        {
          "output_type": "stream",
          "name": "stdout",
          "text": [
            "[0. 1. 0. 0. 0. 0. 0. 0. 0. 0.]\n",
            "[0. 0. 0. 1. 0. 0. 0. 0. 0. 0.]\n",
            "(10, 60000)\n",
            "(10, 10000)\n"
          ]
        }
      ]
    },
    {
      "cell_type": "code",
      "source": [
        "#after reshaping just to check\n",
        "\n",
        "X_train= np.reshape(X_train,(28,28,60000))\n",
        "img=X_train[:,:,200]\n",
        "plt.imshow(img)\n",
        "plt.show()\n",
        "X_train=np.reshape(X_train,(784,60000))"
      ],
      "metadata": {
        "colab": {
          "base_uri": "https://localhost:8080/",
          "height": 265
        },
        "id": "yiXxkzamjx0E",
        "outputId": "030ef5fd-d36a-4345-b25e-9b6d6417ef5c"
      },
      "execution_count": 225,
      "outputs": [
        {
          "output_type": "display_data",
          "data": {
            "image/png": "[encoded data removed]",
            "text/plain": [
              "<Figure size 432x288 with 1 Axes>"
            ]
          },
          "metadata": {
            "needs_background": "light"
          }
        }
      ]
    },
    {
      "cell_type": "markdown",
      "source": [
        "All initializations and function definitions"
      ],
      "metadata": {
        "id": "JiZ-RWIDahZS"
      }
    },
    {
      "cell_type": "code",
      "source": [
        "X_test=np.reshape(X_test,(28,28,10000))\n",
        "img=X_test[:,:,200]\n",
        "plt.imshow(img)\n",
        "plt.show()\n",
        "X_test=np.reshape(X_test,(784,10000));"
      ],
      "metadata": {
        "id": "dMNAhvc7W0Os",
        "colab": {
          "base_uri": "https://localhost:8080/",
          "height": 265
        },
        "outputId": "4676a735-7326-4305-af06-66822c64b08d"
      },
      "execution_count": 226,
      "outputs": [
        {
          "output_type": "display_data",
          "data": {
            "image/png": "[encoded data removed]",
            "text/plain": [
              "<Figure size 432x288 with 1 Axes>"
            ]
          },
          "metadata": {
            "needs_background": "light"
          }
        }
      ]
    },
    {
      "cell_type": "code",
      "source": [
        "#input X for all training examples So(n[0]xm dimension)\n",
        "X_train=X_train;\n",
        "A0=X_train;\n",
        "\n",
        "\n",
        "\n",
        "#n[1] =250 i.e. 250 neurons in the first hidden layer\n",
        "#n[2]=10 i.e. output layer with 9 neurons\n",
        "\n",
        "#all the weights for conection between input and first hidden layer (for a particular gradient descennt iteration) So dimension n[1]xn[0]\n",
        "W1=np.random.randn(250,784)*0.01;\n",
        "W2=np.random.randn(10,250)*0.01;\n",
        "\n",
        "#Similarly all biases for 1st hidden layer (for a particular gradient descennt iteration) so dimension n[1]x1\n",
        "\n",
        "B1=np.zeros(shape=(250,1));\n",
        "B2=np.zeros(shape=(10,1));\n",
        "\n",
        "\n",
        "#sigmoid function and its derivative\n",
        "def sigmoid(x):\n",
        "  return 1/(1+np.exp(-x));\n",
        "\n",
        "def dSigmoid(x):\n",
        "  return sigmoid(x)*(1-sigmoid(x));\n",
        "\n",
        "#softmax\n",
        "def softmax(x):\n",
        "  return np.exp(x)/np.sum(np.exp(x),axis=0);   \n",
        "\n",
        "# in the notaion i represents the ith iterration of gradeient descent and j denotes the jth layer of the neural network j_1 means j-1\n",
        "def forwardPropagation(x,w1,w2,b1,b2):\n",
        "  z1=np.dot(w1,x)+b1; \n",
        "  a1=sigmoid(z1);\n",
        "  z2=np.dot(w2,a1)+b2;\n",
        "  a2=softmax(z2);\n",
        "  return a2,a1,z2,z1;\n",
        "\n",
        "#loss function for logistic output\n",
        "def loss(a,y):\n",
        "  return -1*np.sum(y*np.log(a),axis=0);\n",
        "\n",
        "# cross categorical entropy\n",
        "\n",
        "#cost calculation\n",
        "def computeCost(A,Y):\n",
        "  l=loss(A,Y);\n",
        "  return np.sum(l)/60000;\n",
        "\n",
        "\n",
        "#Learning rate 0.03\n",
        "alpha=0.03;\n",
        "costList=[];"
      ],
      "metadata": {
        "id": "M0L2OpWekJWb"
      },
      "execution_count": 227,
      "outputs": []
    },
    {
      "cell_type": "markdown",
      "source": [
        "Code below this is one single iteration of gradient descent "
      ],
      "metadata": {
        "id": "FGDBFt6jVkIm"
      }
    },
    {
      "cell_type": "code",
      "source": [
        "epochs=360;\n",
        "\n",
        "for i in range(0,epochs):\n",
        "  \n",
        "  #forward propogation for both layers\n",
        "  A2,A1,Z2,Z1=forwardPropagation(X_train,W1,W2,B1,B2);\n",
        "\n",
        "\n",
        "  cost=computeCost(A2,Y);\n",
        "  costList.append(cost);\n",
        "\n",
        "  #only derivatives wrt W and B are important to get gradient vector.\n",
        "  \n",
        "  dZ2=A2-Y;                                      #(10,60000)\n",
        "  dW2=np.dot(dZ2,A1.T)/60000;                    #(10,250)==(10,60000)x(60000,250)\n",
        "  dB2=np.sum(dZ2,axis=1,keepdims=1)/60000;       #(10,1)\n",
        "\n",
        "\n",
        " \n",
        "  p=np.dot(W2.T,dZ2);                             #(250x10) (10,60000)== (250,60000)\n",
        "  dZ1=p*dSigmoid(A1);                             #(250,60000)\n",
        "  dW1=np.dot(dZ1,X_train.T)/60000;                #(250,784)\n",
        "  dB1=np.sum(dZ1,axis=1,keepdims=1)/60000;        #(250,1)\n",
        "\n",
        "\n",
        "  #So basicallly now we know the gradient of costfunction\n",
        "  #We can update all weights and biases now.\n",
        "\n",
        "  W1-=alpha*dW1;     \n",
        "  W2-=alpha*dW2;\n",
        "  B1-=alpha*dB1;\n",
        "  B2-=alpha*dB2;\n"
      ],
      "metadata": {
        "id": "bF3oqiSpSpx4",
        "colab": {
          "base_uri": "https://localhost:8080/"
        },
        "outputId": "b29ba524-5654-4c05-c1d9-16d326fdbdbb"
      },
      "execution_count": 252,
      "outputs": [
        {
          "output_type": "stream",
          "name": "stderr",
          "text": [
            "/usr/local/lib/python3.7/dist-packages/ipykernel_launcher.py:22: RuntimeWarning: overflow encountered in exp\n"
          ]
        }
      ]
    },
    {
      "cell_type": "markdown",
      "source": [
        "Now to the testing Part"
      ],
      "metadata": {
        "id": "QN6VtwS15ytU"
      }
    },
    {
      "cell_type": "code",
      "source": [
        "i=np.linspace(0,360,num=360,endpoint=False);\n",
        "plt.plot(i,costList);\n",
        "plt.show()"
      ],
      "metadata": {
        "colab": {
          "base_uri": "https://localhost:8080/",
          "height": 265
        },
        "id": "VQ_PzSoJGL6m",
        "outputId": "bcd52f80-862e-484f-ab4d-ca988cff1eed"
      },
      "execution_count": 253,
      "outputs": [
        {
          "output_type": "display_data",
          "data": {
            "image/png": "[encoded data removed]",
            "text/plain": [
              "<Figure size 432x288 with 1 Axes>"
            ]
          },
          "metadata": {
            "needs_background": "light"
          }
        }
      ]
    },
    {
      "cell_type": "code",
      "source": [
        "A2,A1,Z2,Z1=forwardPropagation(X_test,W1,W2,B1,B2); #predicting outputs for all training examples for testing"
      ],
      "metadata": {
        "id": "NgXGnAVE7ybz",
        "colab": {
          "base_uri": "https://localhost:8080/"
        },
        "outputId": "6e645c56-c772-417b-b73a-8327e05dd3fd"
      },
      "execution_count": 265,
      "outputs": [
        {
          "output_type": "stream",
          "name": "stderr",
          "text": [
            "/usr/local/lib/python3.7/dist-packages/ipykernel_launcher.py:22: RuntimeWarning: overflow encountered in exp\n"
          ]
        }
      ]
    },
    {
      "cell_type": "code",
      "source": [
        "#calculating accuracy\n",
        "correct=0;\n",
        "\n",
        "for i in range(0,10000):     \n",
        "  if(np.argmax(Yti[:,i])==np.argmax(A2[:,i])):\n",
        "    correct+=1;\n",
        "print(correct/10000*100)\n"
      ],
      "metadata": {
        "id": "FjW3C9Zr_1RL",
        "colab": {
          "base_uri": "https://localhost:8080/"
        },
        "outputId": "1041bf3f-2b12-499e-8073-344191862443"
      },
      "execution_count": 297,
      "outputs": [
        {
          "output_type": "stream",
          "name": "stdout",
          "text": [
            "84.43\n"
          ]
        }
      ]
    },
    {
      "cell_type": "markdown",
      "source": [
        "Finally just checking for a random testing example"
      ],
      "metadata": {
        "id": "q3PZ1V7s7NX8"
      }
    },
    {
      "cell_type": "code",
      "source": [
        "X_test=np.reshape(X_test,(28,28,10000))\n",
        "img=X_test[:,:,501]\n",
        "plt.imshow(img)\n",
        "plt.show()\n",
        "X_test=np.reshape(X_test,(784,10000));"
      ],
      "metadata": {
        "colab": {
          "base_uri": "https://localhost:8080/",
          "height": 265
        },
        "id": "-vN6GTSz2uwu",
        "outputId": "8ab5a10f-7aef-491e-bec7-87aecd900111"
      },
      "execution_count": 295,
      "outputs": [
        {
          "output_type": "display_data",
          "data": {
            "image/png": "[encoded data removed]",
            "text/plain": [
              "<Figure size 432x288 with 1 Axes>"
            ]
          },
          "metadata": {
            "needs_background": "light"
          }
        }
      ]
    },
    {
      "cell_type": "code",
      "source": [
        "np.argmax(A2[:,501])"
      ],
      "metadata": {
        "colab": {
          "base_uri": "https://localhost:8080/"
        },
        "id": "idss3BjL22LI",
        "outputId": "00abfc84-6b8c-4ca1-f6f9-0688b80d84ba"
      },
      "execution_count": 296,
      "outputs": [
        {
          "output_type": "execute_result",
          "data": {
            "text/plain": [
              "9"
            ]
          },
          "metadata": {},
          "execution_count": 296
        }
      ]
    }
  ]
}